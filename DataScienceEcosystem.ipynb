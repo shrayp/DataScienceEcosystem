{
 "cells": [
  {
   "cell_type": "markdown",
   "id": "26040d27",
   "metadata": {},
   "source": [
    "# Data Science Tools and Ecosystem"
   ]
  },
  {
   "cell_type": "markdown",
   "id": "9df29c3e",
   "metadata": {},
   "source": [
    "## Author\n",
    "Shrayansh Pandey"
   ]
  },
  {
   "cell_type": "markdown",
   "id": "1a896ffe",
   "metadata": {},
   "source": [
    "In this notebook, Data Science Tools and Ecosystem are summarized."
   ]
  },
  {
   "cell_type": "markdown",
   "id": "3582d2c5",
   "metadata": {},
   "source": [
    "__Objectives:__\n",
    "\n",
    "* List popular languages for Data Science\n",
    "* List popular libraries for Data Science\n",
    "* List of data science tools\n",
    "* Arithmetic expressions in python\n"
   ]
  },
  {
   "cell_type": "markdown",
   "id": "c97d5883",
   "metadata": {},
   "source": [
    "#### Some of the popular languages that Data Scientists use are:\n",
    "1. Python\n",
    "2. R\n",
    "3. SQL\n",
    "4. Java\n",
    "5. Scala\n",
    "6. C++\n",
    "7. Javascript\n",
    "8. Julia"
   ]
  },
  {
   "cell_type": "markdown",
   "id": "568023a4",
   "metadata": {},
   "source": [
    "#### Some of the commonly used libraries used by Data Scientists include:\n",
    "\n",
    "1. Pandas\n",
    "2. Numpy\n",
    "3. Matplotlib\n",
    "4. Seaborn\n",
    "5. Scikit-learn\n",
    "6. Keras\n",
    "7. TensorFlow\n",
    "8. Pytorch"
   ]
  },
  {
   "cell_type": "markdown",
   "id": "3e7d6ff9",
   "metadata": {},
   "source": [
    "| Data Science Tools |\n",
    "| --- |\n",
    "| SQL |\n",
    "| Apache AirFlow |\n",
    "| KubeFlow |\n",
    "| Apache Kafka |\n",
    "| Apache Nifi |\n",
    "| Apache SparkSQL |\n",
    "| NodeRED |\n",
    "| Pixie Dust |\n",
    "| Hue |\n",
    "| Kibana |\n",
    "| Apache Superset |\n",
    "| Apache PredictionIO |\n",
    "| Seldon  |\n",
    "| TensorFlow service |\n",
    "| ModelDB |\n",
    "| Prometheus |\n",
    "| IBM AI Fairness 360 open-source toolkit |\n",
    "| IBM Adversarial Robustness 360 Toolbox |\n",
    "| GitHub |\n",
    "| GitLab  |\n",
    "| Bitbucket |\n",
    "| Apache Atlas |\n",
    "| ODPi Egeria |\n",
    "| Kylo |\n",
    "| Jupyter Notebooks and Jupyter Lab |\n",
    "| Apache Zeppelin |\n",
    "| RStudio |\n",
    "| Spyder |\n",
    "| Apache Spark |\n",
    "| Apache Flink |\n"
   ]
  },
  {
   "cell_type": "markdown",
   "id": "0ef6b338",
   "metadata": {},
   "source": [
    "### Below are a few examples of evaluating arithmetic expressions in Python."
   ]
  },
  {
   "cell_type": "code",
   "execution_count": 4,
   "id": "ff968a7d",
   "metadata": {},
   "outputs": [
    {
     "data": {
      "text/plain": [
       "17"
      ]
     },
     "execution_count": 4,
     "metadata": {},
     "output_type": "execute_result"
    }
   ],
   "source": [
    "#This a simple arithmetic expression to mutiply then add integers\n",
    "(3*4)+5"
   ]
  },
  {
   "cell_type": "code",
   "execution_count": 5,
   "id": "2af4db02",
   "metadata": {},
   "outputs": [
    {
     "data": {
      "text/plain": [
       "3.3333333333333335"
      ]
     },
     "execution_count": 5,
     "metadata": {},
     "output_type": "execute_result"
    }
   ],
   "source": [
    "#This will convert 200 minutes to hours by diving by 60\n",
    "200/60"
   ]
  },
  {
   "cell_type": "code",
   "execution_count": null,
   "id": "5b715339",
   "metadata": {},
   "outputs": [],
   "source": []
  }
 ],
 "metadata": {
  "kernelspec": {
   "display_name": "Python 3",
   "language": "python",
   "name": "python3"
  },
  "language_info": {
   "codemirror_mode": {
    "name": "ipython",
    "version": 3
   },
   "file_extension": ".py",
   "mimetype": "text/x-python",
   "name": "python",
   "nbconvert_exporter": "python",
   "pygments_lexer": "ipython3",
   "version": "3.8.8"
  }
 },
 "nbformat": 4,
 "nbformat_minor": 5
}
